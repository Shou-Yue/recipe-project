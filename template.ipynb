{
 "cells": [
  {
   "cell_type": "markdown",
   "metadata": {},
   "source": [
    "# Your Title Here\n",
    "\n",
    "**Name(s)**: (your name(s) here)\n",
    "\n",
    "**Website Link**: (your website link)"
   ]
  },
  {
   "cell_type": "code",
   "execution_count": 40,
   "metadata": {
    "ExecuteTime": {
     "end_time": "2019-10-31T23:36:28.652554Z",
     "start_time": "2019-10-31T23:36:27.180520Z"
    }
   },
   "outputs": [],
   "source": [
    "import pandas as pd\n",
    "import numpy as np\n",
    "from pathlib import Path\n",
    "import ast\n",
    "import plotly.express as px\n",
    "pd.options.plotting.backend = 'plotly'\n",
    "\n",
    "from dsc80_utils import * # Feel free to uncomment and use this."
   ]
  },
  {
   "cell_type": "markdown",
   "metadata": {},
   "source": [
    "## Step 1: Introduction"
   ]
  },
  {
   "cell_type": "markdown",
   "metadata": {},
   "source": [
    "Our team decides to analyze recipe and rating dataset. Our focus is to analyze what kind of recipe yield a higher rating, and ultimately aim to predict rating based on the recipe."
   ]
  },
  {
   "cell_type": "code",
   "execution_count": 12,
   "metadata": {},
   "outputs": [],
   "source": [
    "path_recipe = Path('data') / \"RAW_recipes.csv\"\n",
    "path_rating = Path('data') / \"RAW_interactions.csv\"\n",
    "recipe = pd.read_csv(path_recipe)\n",
    "rating = pd.read_csv(path_rating)"
   ]
  },
  {
   "cell_type": "code",
   "execution_count": 13,
   "metadata": {},
   "outputs": [
    {
     "data": {
      "text/html": [
       "<div>\n",
       "<style scoped>\n",
       "    .dataframe tbody tr th:only-of-type {\n",
       "        vertical-align: middle;\n",
       "    }\n",
       "\n",
       "    .dataframe tbody tr th {\n",
       "        vertical-align: top;\n",
       "    }\n",
       "\n",
       "    .dataframe thead th {\n",
       "        text-align: right;\n",
       "    }\n",
       "</style>\n",
       "<table border=\"1\" class=\"dataframe\">\n",
       "  <thead>\n",
       "    <tr style=\"text-align: right;\">\n",
       "      <th></th>\n",
       "      <th>name</th>\n",
       "      <th>id</th>\n",
       "      <th>minutes</th>\n",
       "      <th>contributor_id</th>\n",
       "      <th>submitted</th>\n",
       "      <th>tags</th>\n",
       "      <th>nutrition</th>\n",
       "      <th>n_steps</th>\n",
       "      <th>steps</th>\n",
       "      <th>description</th>\n",
       "      <th>ingredients</th>\n",
       "      <th>n_ingredients</th>\n",
       "    </tr>\n",
       "  </thead>\n",
       "  <tbody>\n",
       "    <tr>\n",
       "      <th>0</th>\n",
       "      <td>1 brownies in the world    best ever</td>\n",
       "      <td>333281</td>\n",
       "      <td>40</td>\n",
       "      <td>985201</td>\n",
       "      <td>2008-10-27</td>\n",
       "      <td>['60-minutes-or-less', 'time-to-make', 'course...</td>\n",
       "      <td>[138.4, 10.0, 50.0, 3.0, 3.0, 19.0, 6.0]</td>\n",
       "      <td>10</td>\n",
       "      <td>['heat the oven to 350f and arrange the rack i...</td>\n",
       "      <td>these are the most; chocolatey, moist, rich, d...</td>\n",
       "      <td>['bittersweet chocolate', 'unsalted butter', '...</td>\n",
       "      <td>9</td>\n",
       "    </tr>\n",
       "    <tr>\n",
       "      <th>1</th>\n",
       "      <td>1 in canada chocolate chip cookies</td>\n",
       "      <td>453467</td>\n",
       "      <td>45</td>\n",
       "      <td>1848091</td>\n",
       "      <td>2011-04-11</td>\n",
       "      <td>['60-minutes-or-less', 'time-to-make', 'cuisin...</td>\n",
       "      <td>[595.1, 46.0, 211.0, 22.0, 13.0, 51.0, 26.0]</td>\n",
       "      <td>12</td>\n",
       "      <td>['pre-heat oven the 350 degrees f', 'in a mixi...</td>\n",
       "      <td>this is the recipe that we use at my school ca...</td>\n",
       "      <td>['white sugar', 'brown sugar', 'salt', 'margar...</td>\n",
       "      <td>11</td>\n",
       "    </tr>\n",
       "    <tr>\n",
       "      <th>2</th>\n",
       "      <td>412 broccoli casserole</td>\n",
       "      <td>306168</td>\n",
       "      <td>40</td>\n",
       "      <td>50969</td>\n",
       "      <td>2008-05-30</td>\n",
       "      <td>['60-minutes-or-less', 'time-to-make', 'course...</td>\n",
       "      <td>[194.8, 20.0, 6.0, 32.0, 22.0, 36.0, 3.0]</td>\n",
       "      <td>6</td>\n",
       "      <td>['preheat oven to 350 degrees', 'spray a 2 qua...</td>\n",
       "      <td>since there are already 411 recipes for brocco...</td>\n",
       "      <td>['frozen broccoli cuts', 'cream of chicken sou...</td>\n",
       "      <td>9</td>\n",
       "    </tr>\n",
       "    <tr>\n",
       "      <th>3</th>\n",
       "      <td>millionaire pound cake</td>\n",
       "      <td>286009</td>\n",
       "      <td>120</td>\n",
       "      <td>461724</td>\n",
       "      <td>2008-02-12</td>\n",
       "      <td>['time-to-make', 'course', 'cuisine', 'prepara...</td>\n",
       "      <td>[878.3, 63.0, 326.0, 13.0, 20.0, 123.0, 39.0]</td>\n",
       "      <td>7</td>\n",
       "      <td>['freheat the oven to 300 degrees', 'grease a ...</td>\n",
       "      <td>why a millionaire pound cake?  because it's su...</td>\n",
       "      <td>['butter', 'sugar', 'eggs', 'all-purpose flour...</td>\n",
       "      <td>7</td>\n",
       "    </tr>\n",
       "    <tr>\n",
       "      <th>4</th>\n",
       "      <td>2000 meatloaf</td>\n",
       "      <td>475785</td>\n",
       "      <td>90</td>\n",
       "      <td>2202916</td>\n",
       "      <td>2012-03-06</td>\n",
       "      <td>['time-to-make', 'course', 'main-ingredient', ...</td>\n",
       "      <td>[267.0, 30.0, 12.0, 12.0, 29.0, 48.0, 2.0]</td>\n",
       "      <td>17</td>\n",
       "      <td>['pan fry bacon , and set aside on a paper tow...</td>\n",
       "      <td>ready, set, cook! special edition contest entr...</td>\n",
       "      <td>['meatloaf mixture', 'unsmoked bacon', 'goat c...</td>\n",
       "      <td>13</td>\n",
       "    </tr>\n",
       "  </tbody>\n",
       "</table>\n",
       "</div>"
      ],
      "text/plain": [
       "                                   name      id  minutes  contributor_id  \\\n",
       "0  1 brownies in the world    best ever  333281       40          985201   \n",
       "1    1 in canada chocolate chip cookies  453467       45         1848091   \n",
       "2                412 broccoli casserole  306168       40           50969   \n",
       "3                millionaire pound cake  286009      120          461724   \n",
       "4                         2000 meatloaf  475785       90         2202916   \n",
       "\n",
       "    submitted                                               tags  \\\n",
       "0  2008-10-27  ['60-minutes-or-less', 'time-to-make', 'course...   \n",
       "1  2011-04-11  ['60-minutes-or-less', 'time-to-make', 'cuisin...   \n",
       "2  2008-05-30  ['60-minutes-or-less', 'time-to-make', 'course...   \n",
       "3  2008-02-12  ['time-to-make', 'course', 'cuisine', 'prepara...   \n",
       "4  2012-03-06  ['time-to-make', 'course', 'main-ingredient', ...   \n",
       "\n",
       "                                       nutrition  n_steps  \\\n",
       "0       [138.4, 10.0, 50.0, 3.0, 3.0, 19.0, 6.0]       10   \n",
       "1   [595.1, 46.0, 211.0, 22.0, 13.0, 51.0, 26.0]       12   \n",
       "2      [194.8, 20.0, 6.0, 32.0, 22.0, 36.0, 3.0]        6   \n",
       "3  [878.3, 63.0, 326.0, 13.0, 20.0, 123.0, 39.0]        7   \n",
       "4     [267.0, 30.0, 12.0, 12.0, 29.0, 48.0, 2.0]       17   \n",
       "\n",
       "                                               steps  \\\n",
       "0  ['heat the oven to 350f and arrange the rack i...   \n",
       "1  ['pre-heat oven the 350 degrees f', 'in a mixi...   \n",
       "2  ['preheat oven to 350 degrees', 'spray a 2 qua...   \n",
       "3  ['freheat the oven to 300 degrees', 'grease a ...   \n",
       "4  ['pan fry bacon , and set aside on a paper tow...   \n",
       "\n",
       "                                         description  \\\n",
       "0  these are the most; chocolatey, moist, rich, d...   \n",
       "1  this is the recipe that we use at my school ca...   \n",
       "2  since there are already 411 recipes for brocco...   \n",
       "3  why a millionaire pound cake?  because it's su...   \n",
       "4  ready, set, cook! special edition contest entr...   \n",
       "\n",
       "                                         ingredients  n_ingredients  \n",
       "0  ['bittersweet chocolate', 'unsalted butter', '...              9  \n",
       "1  ['white sugar', 'brown sugar', 'salt', 'margar...             11  \n",
       "2  ['frozen broccoli cuts', 'cream of chicken sou...              9  \n",
       "3  ['butter', 'sugar', 'eggs', 'all-purpose flour...              7  \n",
       "4  ['meatloaf mixture', 'unsmoked bacon', 'goat c...             13  "
      ]
     },
     "execution_count": 13,
     "metadata": {},
     "output_type": "execute_result"
    }
   ],
   "source": [
    "recipe.head(5)"
   ]
  },
  {
   "cell_type": "code",
   "execution_count": 25,
   "metadata": {},
   "outputs": [
    {
     "data": {
      "text/plain": [
       "\"['time-to-make', 'course', 'main-ingredient', 'preparation', 'main-dish', 'potatoes', 'vegetables', '4-hours-or-less', 'meatloaf', 'simply-potatoes2']\""
      ]
     },
     "execution_count": 25,
     "metadata": {},
     "output_type": "execute_result"
    }
   ],
   "source": [
    "recipe['tags'].iloc[4]"
   ]
  },
  {
   "cell_type": "code",
   "execution_count": 14,
   "metadata": {},
   "outputs": [
    {
     "data": {
      "text/html": [
       "<div>\n",
       "<style scoped>\n",
       "    .dataframe tbody tr th:only-of-type {\n",
       "        vertical-align: middle;\n",
       "    }\n",
       "\n",
       "    .dataframe tbody tr th {\n",
       "        vertical-align: top;\n",
       "    }\n",
       "\n",
       "    .dataframe thead th {\n",
       "        text-align: right;\n",
       "    }\n",
       "</style>\n",
       "<table border=\"1\" class=\"dataframe\">\n",
       "  <thead>\n",
       "    <tr style=\"text-align: right;\">\n",
       "      <th></th>\n",
       "      <th>user_id</th>\n",
       "      <th>recipe_id</th>\n",
       "      <th>date</th>\n",
       "      <th>rating</th>\n",
       "      <th>review</th>\n",
       "    </tr>\n",
       "  </thead>\n",
       "  <tbody>\n",
       "    <tr>\n",
       "      <th>0</th>\n",
       "      <td>1293707</td>\n",
       "      <td>40893</td>\n",
       "      <td>2011-12-21</td>\n",
       "      <td>5</td>\n",
       "      <td>So simple, so delicious! Great for chilly fall...</td>\n",
       "    </tr>\n",
       "    <tr>\n",
       "      <th>1</th>\n",
       "      <td>126440</td>\n",
       "      <td>85009</td>\n",
       "      <td>2010-02-27</td>\n",
       "      <td>5</td>\n",
       "      <td>I made the Mexican topping and took it to bunk...</td>\n",
       "    </tr>\n",
       "    <tr>\n",
       "      <th>2</th>\n",
       "      <td>57222</td>\n",
       "      <td>85009</td>\n",
       "      <td>2011-10-01</td>\n",
       "      <td>5</td>\n",
       "      <td>Made the cheddar bacon topping, adding a sprin...</td>\n",
       "    </tr>\n",
       "    <tr>\n",
       "      <th>3</th>\n",
       "      <td>124416</td>\n",
       "      <td>120345</td>\n",
       "      <td>2011-08-06</td>\n",
       "      <td>0</td>\n",
       "      <td>Just an observation, so I will not rate.  I fo...</td>\n",
       "    </tr>\n",
       "    <tr>\n",
       "      <th>4</th>\n",
       "      <td>2000192946</td>\n",
       "      <td>120345</td>\n",
       "      <td>2015-05-10</td>\n",
       "      <td>2</td>\n",
       "      <td>This recipe was OVERLY too sweet.  I would sta...</td>\n",
       "    </tr>\n",
       "  </tbody>\n",
       "</table>\n",
       "</div>"
      ],
      "text/plain": [
       "      user_id  recipe_id        date  rating  \\\n",
       "0     1293707      40893  2011-12-21       5   \n",
       "1      126440      85009  2010-02-27       5   \n",
       "2       57222      85009  2011-10-01       5   \n",
       "3      124416     120345  2011-08-06       0   \n",
       "4  2000192946     120345  2015-05-10       2   \n",
       "\n",
       "                                              review  \n",
       "0  So simple, so delicious! Great for chilly fall...  \n",
       "1  I made the Mexican topping and took it to bunk...  \n",
       "2  Made the cheddar bacon topping, adding a sprin...  \n",
       "3  Just an observation, so I will not rate.  I fo...  \n",
       "4  This recipe was OVERLY too sweet.  I would sta...  "
      ]
     },
     "execution_count": 14,
     "metadata": {},
     "output_type": "execute_result"
    }
   ],
   "source": [
    "rating.head(5)"
   ]
  },
  {
   "cell_type": "code",
   "execution_count": 15,
   "metadata": {},
   "outputs": [
    {
     "data": {
      "text/plain": [
       "((83782, 12), (731927, 5))"
      ]
     },
     "execution_count": 15,
     "metadata": {},
     "output_type": "execute_result"
    }
   ],
   "source": [
    "(recipe.shape,rating.shape)"
   ]
  },
  {
   "cell_type": "code",
   "execution_count": 21,
   "metadata": {},
   "outputs": [
    {
     "data": {
      "text/html": [
       "<div>\n",
       "<style scoped>\n",
       "    .dataframe tbody tr th:only-of-type {\n",
       "        vertical-align: middle;\n",
       "    }\n",
       "\n",
       "    .dataframe tbody tr th {\n",
       "        vertical-align: top;\n",
       "    }\n",
       "\n",
       "    .dataframe thead th {\n",
       "        text-align: right;\n",
       "    }\n",
       "</style>\n",
       "<table border=\"1\" class=\"dataframe\">\n",
       "  <thead>\n",
       "    <tr style=\"text-align: right;\">\n",
       "      <th></th>\n",
       "      <th>name</th>\n",
       "      <th>id</th>\n",
       "      <th>minutes</th>\n",
       "      <th>contributor_id</th>\n",
       "      <th>submitted</th>\n",
       "      <th>tags</th>\n",
       "      <th>nutrition</th>\n",
       "      <th>n_steps</th>\n",
       "      <th>steps</th>\n",
       "      <th>description</th>\n",
       "      <th>ingredients</th>\n",
       "      <th>n_ingredients</th>\n",
       "      <th>user_id</th>\n",
       "      <th>recipe_id</th>\n",
       "      <th>date</th>\n",
       "      <th>rating</th>\n",
       "      <th>review</th>\n",
       "    </tr>\n",
       "  </thead>\n",
       "  <tbody>\n",
       "    <tr>\n",
       "      <th>0</th>\n",
       "      <td>1 brownies in the world    best ever</td>\n",
       "      <td>333281</td>\n",
       "      <td>40</td>\n",
       "      <td>985201</td>\n",
       "      <td>2008-10-27</td>\n",
       "      <td>['60-minutes-or-less', 'time-to-make', 'course...</td>\n",
       "      <td>[138.4, 10.0, 50.0, 3.0, 3.0, 19.0, 6.0]</td>\n",
       "      <td>10</td>\n",
       "      <td>['heat the oven to 350f and arrange the rack i...</td>\n",
       "      <td>these are the most; chocolatey, moist, rich, d...</td>\n",
       "      <td>['bittersweet chocolate', 'unsalted butter', '...</td>\n",
       "      <td>9</td>\n",
       "      <td>3.865850e+05</td>\n",
       "      <td>333281.0</td>\n",
       "      <td>2008-11-19</td>\n",
       "      <td>4.0</td>\n",
       "      <td>These were pretty good, but took forever to ba...</td>\n",
       "    </tr>\n",
       "    <tr>\n",
       "      <th>1</th>\n",
       "      <td>1 in canada chocolate chip cookies</td>\n",
       "      <td>453467</td>\n",
       "      <td>45</td>\n",
       "      <td>1848091</td>\n",
       "      <td>2011-04-11</td>\n",
       "      <td>['60-minutes-or-less', 'time-to-make', 'cuisin...</td>\n",
       "      <td>[595.1, 46.0, 211.0, 22.0, 13.0, 51.0, 26.0]</td>\n",
       "      <td>12</td>\n",
       "      <td>['pre-heat oven the 350 degrees f', 'in a mixi...</td>\n",
       "      <td>this is the recipe that we use at my school ca...</td>\n",
       "      <td>['white sugar', 'brown sugar', 'salt', 'margar...</td>\n",
       "      <td>11</td>\n",
       "      <td>4.246800e+05</td>\n",
       "      <td>453467.0</td>\n",
       "      <td>2012-01-26</td>\n",
       "      <td>5.0</td>\n",
       "      <td>Originally I was gonna cut the recipe in half ...</td>\n",
       "    </tr>\n",
       "    <tr>\n",
       "      <th>2</th>\n",
       "      <td>412 broccoli casserole</td>\n",
       "      <td>306168</td>\n",
       "      <td>40</td>\n",
       "      <td>50969</td>\n",
       "      <td>2008-05-30</td>\n",
       "      <td>['60-minutes-or-less', 'time-to-make', 'course...</td>\n",
       "      <td>[194.8, 20.0, 6.0, 32.0, 22.0, 36.0, 3.0]</td>\n",
       "      <td>6</td>\n",
       "      <td>['preheat oven to 350 degrees', 'spray a 2 qua...</td>\n",
       "      <td>since there are already 411 recipes for brocco...</td>\n",
       "      <td>['frozen broccoli cuts', 'cream of chicken sou...</td>\n",
       "      <td>9</td>\n",
       "      <td>2.978200e+04</td>\n",
       "      <td>306168.0</td>\n",
       "      <td>2008-12-31</td>\n",
       "      <td>5.0</td>\n",
       "      <td>This was one of the best broccoli casseroles t...</td>\n",
       "    </tr>\n",
       "    <tr>\n",
       "      <th>3</th>\n",
       "      <td>412 broccoli casserole</td>\n",
       "      <td>306168</td>\n",
       "      <td>40</td>\n",
       "      <td>50969</td>\n",
       "      <td>2008-05-30</td>\n",
       "      <td>['60-minutes-or-less', 'time-to-make', 'course...</td>\n",
       "      <td>[194.8, 20.0, 6.0, 32.0, 22.0, 36.0, 3.0]</td>\n",
       "      <td>6</td>\n",
       "      <td>['preheat oven to 350 degrees', 'spray a 2 qua...</td>\n",
       "      <td>since there are already 411 recipes for brocco...</td>\n",
       "      <td>['frozen broccoli cuts', 'cream of chicken sou...</td>\n",
       "      <td>9</td>\n",
       "      <td>1.196280e+06</td>\n",
       "      <td>306168.0</td>\n",
       "      <td>2009-04-13</td>\n",
       "      <td>5.0</td>\n",
       "      <td>I made this for my son's first birthday party ...</td>\n",
       "    </tr>\n",
       "    <tr>\n",
       "      <th>4</th>\n",
       "      <td>412 broccoli casserole</td>\n",
       "      <td>306168</td>\n",
       "      <td>40</td>\n",
       "      <td>50969</td>\n",
       "      <td>2008-05-30</td>\n",
       "      <td>['60-minutes-or-less', 'time-to-make', 'course...</td>\n",
       "      <td>[194.8, 20.0, 6.0, 32.0, 22.0, 36.0, 3.0]</td>\n",
       "      <td>6</td>\n",
       "      <td>['preheat oven to 350 degrees', 'spray a 2 qua...</td>\n",
       "      <td>since there are already 411 recipes for brocco...</td>\n",
       "      <td>['frozen broccoli cuts', 'cream of chicken sou...</td>\n",
       "      <td>9</td>\n",
       "      <td>7.688280e+05</td>\n",
       "      <td>306168.0</td>\n",
       "      <td>2013-08-02</td>\n",
       "      <td>5.0</td>\n",
       "      <td>Loved this.  Be sure to completely thaw the br...</td>\n",
       "    </tr>\n",
       "    <tr>\n",
       "      <th>...</th>\n",
       "      <td>...</td>\n",
       "      <td>...</td>\n",
       "      <td>...</td>\n",
       "      <td>...</td>\n",
       "      <td>...</td>\n",
       "      <td>...</td>\n",
       "      <td>...</td>\n",
       "      <td>...</td>\n",
       "      <td>...</td>\n",
       "      <td>...</td>\n",
       "      <td>...</td>\n",
       "      <td>...</td>\n",
       "      <td>...</td>\n",
       "      <td>...</td>\n",
       "      <td>...</td>\n",
       "      <td>...</td>\n",
       "      <td>...</td>\n",
       "    </tr>\n",
       "    <tr>\n",
       "      <th>234423</th>\n",
       "      <td>zydeco ya ya deviled eggs</td>\n",
       "      <td>308080</td>\n",
       "      <td>40</td>\n",
       "      <td>37779</td>\n",
       "      <td>2008-06-07</td>\n",
       "      <td>['60-minutes-or-less', 'time-to-make', 'course...</td>\n",
       "      <td>[59.2, 6.0, 2.0, 3.0, 6.0, 5.0, 0.0]</td>\n",
       "      <td>7</td>\n",
       "      <td>['in a bowl , combine the mashed yolks and may...</td>\n",
       "      <td>deviled eggs, cajun-style</td>\n",
       "      <td>['hard-cooked eggs', 'mayonnaise', 'dijon must...</td>\n",
       "      <td>8</td>\n",
       "      <td>8.445540e+05</td>\n",
       "      <td>308080.0</td>\n",
       "      <td>2009-10-14</td>\n",
       "      <td>5.0</td>\n",
       "      <td>These were very good. I meant to add some jala...</td>\n",
       "    </tr>\n",
       "    <tr>\n",
       "      <th>234424</th>\n",
       "      <td>cookies by design   cookies on a stick</td>\n",
       "      <td>298512</td>\n",
       "      <td>29</td>\n",
       "      <td>506822</td>\n",
       "      <td>2008-04-15</td>\n",
       "      <td>['30-minutes-or-less', 'time-to-make', 'course...</td>\n",
       "      <td>[188.0, 11.0, 57.0, 11.0, 7.0, 21.0, 9.0]</td>\n",
       "      <td>9</td>\n",
       "      <td>['place melted butter in a large mixing bowl a...</td>\n",
       "      <td>i've heard of the 'cookies by design' company,...</td>\n",
       "      <td>['butter', 'eagle brand condensed milk', 'ligh...</td>\n",
       "      <td>10</td>\n",
       "      <td>8.042340e+05</td>\n",
       "      <td>298512.0</td>\n",
       "      <td>2008-05-02</td>\n",
       "      <td>1.0</td>\n",
       "      <td>I would rate this a zero if I could. I followe...</td>\n",
       "    </tr>\n",
       "    <tr>\n",
       "      <th>234425</th>\n",
       "      <td>cookies by design   sugar shortbread cookies</td>\n",
       "      <td>298509</td>\n",
       "      <td>20</td>\n",
       "      <td>506822</td>\n",
       "      <td>2008-04-15</td>\n",
       "      <td>['30-minutes-or-less', 'time-to-make', 'course...</td>\n",
       "      <td>[174.9, 14.0, 33.0, 4.0, 4.0, 11.0, 6.0]</td>\n",
       "      <td>5</td>\n",
       "      <td>['whip sugar and shortening in a large bowl , ...</td>\n",
       "      <td>i've heard of the 'cookies by design' company,...</td>\n",
       "      <td>['granulated sugar', 'shortening', 'eggs', 'fl...</td>\n",
       "      <td>7</td>\n",
       "      <td>8.666510e+05</td>\n",
       "      <td>298509.0</td>\n",
       "      <td>2008-06-19</td>\n",
       "      <td>1.0</td>\n",
       "      <td>This recipe tastes nothing like the Cookies by...</td>\n",
       "    </tr>\n",
       "    <tr>\n",
       "      <th>234426</th>\n",
       "      <td>cookies by design   sugar shortbread cookies</td>\n",
       "      <td>298509</td>\n",
       "      <td>20</td>\n",
       "      <td>506822</td>\n",
       "      <td>2008-04-15</td>\n",
       "      <td>['30-minutes-or-less', 'time-to-make', 'course...</td>\n",
       "      <td>[174.9, 14.0, 33.0, 4.0, 4.0, 11.0, 6.0]</td>\n",
       "      <td>5</td>\n",
       "      <td>['whip sugar and shortening in a large bowl , ...</td>\n",
       "      <td>i've heard of the 'cookies by design' company,...</td>\n",
       "      <td>['granulated sugar', 'shortening', 'eggs', 'fl...</td>\n",
       "      <td>7</td>\n",
       "      <td>1.546277e+06</td>\n",
       "      <td>298509.0</td>\n",
       "      <td>2010-02-08</td>\n",
       "      <td>5.0</td>\n",
       "      <td>yummy cookies, i love this recipe me and my sm...</td>\n",
       "    </tr>\n",
       "    <tr>\n",
       "      <th>234427</th>\n",
       "      <td>cookies by design   sugar shortbread cookies</td>\n",
       "      <td>298509</td>\n",
       "      <td>20</td>\n",
       "      <td>506822</td>\n",
       "      <td>2008-04-15</td>\n",
       "      <td>['30-minutes-or-less', 'time-to-make', 'course...</td>\n",
       "      <td>[174.9, 14.0, 33.0, 4.0, 4.0, 11.0, 6.0]</td>\n",
       "      <td>5</td>\n",
       "      <td>['whip sugar and shortening in a large bowl , ...</td>\n",
       "      <td>i've heard of the 'cookies by design' company,...</td>\n",
       "      <td>['granulated sugar', 'shortening', 'eggs', 'fl...</td>\n",
       "      <td>7</td>\n",
       "      <td>1.803288e+09</td>\n",
       "      <td>298509.0</td>\n",
       "      <td>2014-11-01</td>\n",
       "      <td>0.0</td>\n",
       "      <td>I work at a Cookies By Design and can say this...</td>\n",
       "    </tr>\n",
       "  </tbody>\n",
       "</table>\n",
       "<p>234428 rows × 17 columns</p>\n",
       "</div>"
      ],
      "text/plain": [
       "                                                name      id  minutes  \\\n",
       "0               1 brownies in the world    best ever  333281       40   \n",
       "1                 1 in canada chocolate chip cookies  453467       45   \n",
       "2                             412 broccoli casserole  306168       40   \n",
       "3                             412 broccoli casserole  306168       40   \n",
       "4                             412 broccoli casserole  306168       40   \n",
       "...                                              ...     ...      ...   \n",
       "234423                     zydeco ya ya deviled eggs  308080       40   \n",
       "234424        cookies by design   cookies on a stick  298512       29   \n",
       "234425  cookies by design   sugar shortbread cookies  298509       20   \n",
       "234426  cookies by design   sugar shortbread cookies  298509       20   \n",
       "234427  cookies by design   sugar shortbread cookies  298509       20   \n",
       "\n",
       "        contributor_id   submitted  \\\n",
       "0               985201  2008-10-27   \n",
       "1              1848091  2011-04-11   \n",
       "2                50969  2008-05-30   \n",
       "3                50969  2008-05-30   \n",
       "4                50969  2008-05-30   \n",
       "...                ...         ...   \n",
       "234423           37779  2008-06-07   \n",
       "234424          506822  2008-04-15   \n",
       "234425          506822  2008-04-15   \n",
       "234426          506822  2008-04-15   \n",
       "234427          506822  2008-04-15   \n",
       "\n",
       "                                                     tags  \\\n",
       "0       ['60-minutes-or-less', 'time-to-make', 'course...   \n",
       "1       ['60-minutes-or-less', 'time-to-make', 'cuisin...   \n",
       "2       ['60-minutes-or-less', 'time-to-make', 'course...   \n",
       "3       ['60-minutes-or-less', 'time-to-make', 'course...   \n",
       "4       ['60-minutes-or-less', 'time-to-make', 'course...   \n",
       "...                                                   ...   \n",
       "234423  ['60-minutes-or-less', 'time-to-make', 'course...   \n",
       "234424  ['30-minutes-or-less', 'time-to-make', 'course...   \n",
       "234425  ['30-minutes-or-less', 'time-to-make', 'course...   \n",
       "234426  ['30-minutes-or-less', 'time-to-make', 'course...   \n",
       "234427  ['30-minutes-or-less', 'time-to-make', 'course...   \n",
       "\n",
       "                                           nutrition  n_steps  \\\n",
       "0           [138.4, 10.0, 50.0, 3.0, 3.0, 19.0, 6.0]       10   \n",
       "1       [595.1, 46.0, 211.0, 22.0, 13.0, 51.0, 26.0]       12   \n",
       "2          [194.8, 20.0, 6.0, 32.0, 22.0, 36.0, 3.0]        6   \n",
       "3          [194.8, 20.0, 6.0, 32.0, 22.0, 36.0, 3.0]        6   \n",
       "4          [194.8, 20.0, 6.0, 32.0, 22.0, 36.0, 3.0]        6   \n",
       "...                                              ...      ...   \n",
       "234423          [59.2, 6.0, 2.0, 3.0, 6.0, 5.0, 0.0]        7   \n",
       "234424     [188.0, 11.0, 57.0, 11.0, 7.0, 21.0, 9.0]        9   \n",
       "234425      [174.9, 14.0, 33.0, 4.0, 4.0, 11.0, 6.0]        5   \n",
       "234426      [174.9, 14.0, 33.0, 4.0, 4.0, 11.0, 6.0]        5   \n",
       "234427      [174.9, 14.0, 33.0, 4.0, 4.0, 11.0, 6.0]        5   \n",
       "\n",
       "                                                    steps  \\\n",
       "0       ['heat the oven to 350f and arrange the rack i...   \n",
       "1       ['pre-heat oven the 350 degrees f', 'in a mixi...   \n",
       "2       ['preheat oven to 350 degrees', 'spray a 2 qua...   \n",
       "3       ['preheat oven to 350 degrees', 'spray a 2 qua...   \n",
       "4       ['preheat oven to 350 degrees', 'spray a 2 qua...   \n",
       "...                                                   ...   \n",
       "234423  ['in a bowl , combine the mashed yolks and may...   \n",
       "234424  ['place melted butter in a large mixing bowl a...   \n",
       "234425  ['whip sugar and shortening in a large bowl , ...   \n",
       "234426  ['whip sugar and shortening in a large bowl , ...   \n",
       "234427  ['whip sugar and shortening in a large bowl , ...   \n",
       "\n",
       "                                              description  \\\n",
       "0       these are the most; chocolatey, moist, rich, d...   \n",
       "1       this is the recipe that we use at my school ca...   \n",
       "2       since there are already 411 recipes for brocco...   \n",
       "3       since there are already 411 recipes for brocco...   \n",
       "4       since there are already 411 recipes for brocco...   \n",
       "...                                                   ...   \n",
       "234423                          deviled eggs, cajun-style   \n",
       "234424  i've heard of the 'cookies by design' company,...   \n",
       "234425  i've heard of the 'cookies by design' company,...   \n",
       "234426  i've heard of the 'cookies by design' company,...   \n",
       "234427  i've heard of the 'cookies by design' company,...   \n",
       "\n",
       "                                              ingredients  n_ingredients  \\\n",
       "0       ['bittersweet chocolate', 'unsalted butter', '...              9   \n",
       "1       ['white sugar', 'brown sugar', 'salt', 'margar...             11   \n",
       "2       ['frozen broccoli cuts', 'cream of chicken sou...              9   \n",
       "3       ['frozen broccoli cuts', 'cream of chicken sou...              9   \n",
       "4       ['frozen broccoli cuts', 'cream of chicken sou...              9   \n",
       "...                                                   ...            ...   \n",
       "234423  ['hard-cooked eggs', 'mayonnaise', 'dijon must...              8   \n",
       "234424  ['butter', 'eagle brand condensed milk', 'ligh...             10   \n",
       "234425  ['granulated sugar', 'shortening', 'eggs', 'fl...              7   \n",
       "234426  ['granulated sugar', 'shortening', 'eggs', 'fl...              7   \n",
       "234427  ['granulated sugar', 'shortening', 'eggs', 'fl...              7   \n",
       "\n",
       "             user_id  recipe_id        date  rating  \\\n",
       "0       3.865850e+05   333281.0  2008-11-19     4.0   \n",
       "1       4.246800e+05   453467.0  2012-01-26     5.0   \n",
       "2       2.978200e+04   306168.0  2008-12-31     5.0   \n",
       "3       1.196280e+06   306168.0  2009-04-13     5.0   \n",
       "4       7.688280e+05   306168.0  2013-08-02     5.0   \n",
       "...              ...        ...         ...     ...   \n",
       "234423  8.445540e+05   308080.0  2009-10-14     5.0   \n",
       "234424  8.042340e+05   298512.0  2008-05-02     1.0   \n",
       "234425  8.666510e+05   298509.0  2008-06-19     1.0   \n",
       "234426  1.546277e+06   298509.0  2010-02-08     5.0   \n",
       "234427  1.803288e+09   298509.0  2014-11-01     0.0   \n",
       "\n",
       "                                                   review  \n",
       "0       These were pretty good, but took forever to ba...  \n",
       "1       Originally I was gonna cut the recipe in half ...  \n",
       "2       This was one of the best broccoli casseroles t...  \n",
       "3       I made this for my son's first birthday party ...  \n",
       "4       Loved this.  Be sure to completely thaw the br...  \n",
       "...                                                   ...  \n",
       "234423  These were very good. I meant to add some jala...  \n",
       "234424  I would rate this a zero if I could. I followe...  \n",
       "234425  This recipe tastes nothing like the Cookies by...  \n",
       "234426  yummy cookies, i love this recipe me and my sm...  \n",
       "234427  I work at a Cookies By Design and can say this...  \n",
       "\n",
       "[234428 rows x 17 columns]"
      ]
     },
     "execution_count": 21,
     "metadata": {},
     "output_type": "execute_result"
    }
   ],
   "source": [
    "df = pd.merge(recipe.dropna(subset={'name'}),rating,how='left',left_on='id',right_on='recipe_id')\n",
    "df"
   ]
  },
  {
   "cell_type": "code",
   "execution_count": 68,
   "metadata": {},
   "outputs": [],
   "source": [
    "tags = []\n",
    "recipe['tags'].apply(lambda x:tags.extend(ast.literal_eval(x)))\n",
    "tag_list = pd.Series(tags).value_counts()#.index.to_list()"
   ]
  },
  {
   "cell_type": "code",
   "execution_count": 71,
   "metadata": {},
   "outputs": [
    {
     "data": {
      "text/plain": [
       "np.int64(19074)"
      ]
     },
     "execution_count": 71,
     "metadata": {},
     "output_type": "execute_result"
    }
   ],
   "source": [
    "tag_list['meat']"
   ]
  },
  {
   "cell_type": "code",
   "execution_count": 43,
   "metadata": {},
   "outputs": [
    {
     "data": {
      "text/plain": [
       "list"
      ]
     },
     "execution_count": 43,
     "metadata": {},
     "output_type": "execute_result"
    }
   ],
   "source": [
    "ast.literal_eval(df['tags'].iloc[4])"
   ]
  },
  {
   "cell_type": "markdown",
   "metadata": {},
   "source": [
    "We try to explore if the relationship between the **type of dish (side dish or main dish)** and **rating**. We use create-kde from lecture."
   ]
  },
  {
   "cell_type": "code",
   "execution_count": 26,
   "metadata": {},
   "outputs": [
    {
     "data": {
      "text/plain": [
       "False"
      ]
     },
     "execution_count": 26,
     "metadata": {},
     "output_type": "execute_result"
    }
   ],
   "source": []
  },
  {
   "cell_type": "code",
   "execution_count": 65,
   "metadata": {
    "ExecuteTime": {
     "end_time": "2019-10-31T23:36:28.657068Z",
     "start_time": "2019-10-31T23:36:28.654650Z"
    }
   },
   "outputs": [
    {
     "data": {
      "text/plain": [
       "np.float64(19074.0)"
      ]
     },
     "execution_count": 65,
     "metadata": {},
     "output_type": "execute_result"
    }
   ],
   "source": [
    "is_meat = df.assign(is_meat = df['tags'].apply(lambda x:\"meat\" in ast.literal_eval(x)))\n",
    "is_meat['rating'] = is_meat['rating'].fillna(0).replace([np.inf,-np.inf],0)\n",
    "is_meat_grouped = is_meat.groupby(\"id\")[['is_meat','rating']].mean()\n",
    "is_meat_grouped['is_meat'].sum()"
   ]
  },
  {
   "cell_type": "code",
   "execution_count": 73,
   "metadata": {},
   "outputs": [
    {
     "data": {
      "text/html": [
       "<div>                            <div id=\"35498a81-7412-4e0c-a1ca-bc35e90c05dc\" class=\"plotly-graph-div\" style=\"height:400px; width:600px;\"></div>            <script type=\"text/javascript\">                require([\"plotly\"], function(Plotly) {                    window.PLOTLYENV=window.PLOTLYENV || {};                                    if (document.getElementById(\"35498a81-7412-4e0c-a1ca-bc35e90c05dc\")) {                    Plotly.newPlot(                        \"35498a81-7412-4e0c-a1ca-bc35e90c05dc\",                        [{\"legendgroup\":\"True\",\"marker\":{\"color\":\"rgb(31, 119, 180)\"},\"mode\":\"lines\",\"name\":\"True\",\"showlegend\":true,\"x\":[0.0,0.01,0.02,0.03,0.04,0.05,0.06,0.07,0.08,0.09,0.1,0.11,0.12,0.13,0.14,0.15,0.16,0.17,0.18,0.19,0.2,0.21,0.22,0.23,0.24,0.25,0.26,0.27,0.28,0.29,0.3,0.31,0.32,0.33,0.34,0.35,0.36,0.37,0.38,0.39,0.4,0.41,0.42,0.43,0.44,0.45,0.46,0.47,0.48,0.49,0.5,0.51,0.52,0.53,0.54,0.55,0.56,0.57,0.58,0.59,0.6,0.61,0.62,0.63,0.64,0.65,0.66,0.67,0.68,0.69,0.7,0.71,0.72,0.73,0.74,0.75,0.76,0.77,0.78,0.79,0.8,0.81,0.82,0.83,0.84,0.85,0.86,0.87,0.88,0.89,0.9,0.91,0.92,0.93,0.94,0.95,0.96,0.97,0.98,0.99,1.0,1.01,1.02,1.03,1.04,1.05,1.06,1.07,1.08,1.09,1.1,1.11,1.12,1.13,1.14,1.15,1.16,1.17,1.18,1.19,1.2,1.21,1.22,1.23,1.24,1.25,1.26,1.27,1.28,1.29,1.3,1.31,1.32,1.33,1.34,1.35,1.36,1.37,1.38,1.39,1.4,1.41,1.42,1.43,1.44,1.45,1.46,1.47,1.48,1.49,1.5,1.51,1.52,1.53,1.54,1.55,1.56,1.57,1.58,1.59,1.6,1.61,1.62,1.63,1.64,1.65,1.66,1.67,1.68,1.69,1.7,1.71,1.72,1.73,1.74,1.75,1.76,1.77,1.78,1.79,1.8,1.81,1.82,1.83,1.84,1.85,1.86,1.87,1.88,1.89,1.9,1.91,1.92,1.93,1.94,1.95,1.96,1.97,1.98,1.99,2.0,2.01,2.02,2.03,2.04,2.05,2.06,2.07,2.08,2.09,2.1,2.11,2.12,2.13,2.14,2.15,2.16,2.17,2.18,2.19,2.2,2.21,2.22,2.23,2.24,2.25,2.26,2.27,2.28,2.29,2.3,2.31,2.32,2.33,2.34,2.35,2.36,2.37,2.38,2.39,2.4,2.41,2.42,2.43,2.44,2.45,2.46,2.47,2.48,2.49,2.5,2.51,2.52,2.53,2.54,2.55,2.56,2.57,2.58,2.59,2.6,2.61,2.62,2.63,2.64,2.65,2.66,2.67,2.68,2.69,2.7,2.71,2.72,2.73,2.74,2.75,2.76,2.77,2.78,2.79,2.8,2.81,2.82,2.83,2.84,2.85,2.86,2.87,2.88,2.89,2.9,2.91,2.92,2.93,2.94,2.95,2.96,2.97,2.98,2.99,3.0,3.01,3.02,3.03,3.04,3.05,3.06,3.07,3.08,3.09,3.1,3.11,3.12,3.13,3.14,3.15,3.16,3.17,3.18,3.19,3.2,3.21,3.22,3.23,3.24,3.25,3.26,3.27,3.28,3.29,3.3,3.31,3.32,3.33,3.34,3.35,3.36,3.37,3.38,3.39,3.4,3.41,3.42,3.43,3.44,3.45,3.46,3.47,3.48,3.49,3.5,3.51,3.52,3.53,3.54,3.55,3.56,3.57,3.58,3.59,3.6,3.61,3.62,3.63,3.64,3.65,3.66,3.67,3.68,3.69,3.7,3.71,3.72,3.73,3.74,3.75,3.76,3.77,3.78,3.79,3.8,3.81,3.82,3.83,3.84,3.85,3.86,3.87,3.88,3.89,3.9,3.91,3.92,3.93,3.94,3.95,3.96,3.97,3.98,3.99,4.0,4.01,4.02,4.03,4.04,4.05,4.06,4.07,4.08,4.09,4.1,4.11,4.12,4.13,4.14,4.15,4.16,4.17,4.18,4.19,4.2,4.21,4.22,4.23,4.24,4.25,4.26,4.27,4.28,4.29,4.3,4.31,4.32,4.33,4.34,4.35,4.36,4.37,4.38,4.39,4.4,4.41,4.42,4.43,4.44,4.45,4.46,4.47,4.48,4.49,4.5,4.51,4.52,4.53,4.54,4.55,4.56,4.57,4.58,4.59,4.6,4.61,4.62,4.63,4.64,4.65,4.66,4.67,4.68,4.69,4.7,4.71,4.72,4.73,4.74,4.75,4.76,4.77,4.78,4.79,4.8,4.81,4.82,4.83,4.84,4.85,4.86,4.87,4.88,4.89,4.9,4.91,4.92,4.93,4.94,4.95,4.96,4.97,4.98,4.99],\"xaxis\":\"x\",\"y\":[0.07912483827094241,0.07894661178835825,0.0784095039906009,0.07752094524526823,0.07629310218901851,0.0747426043035095,0.0728901732217725,0.07076016634668265,0.06838004885543697,0.06577981009807936,0.06299134170878787,0.06004779539951271,0.056982938391620795,0.053830523786763236,0.05062369193559843,0.04739441710835845,0.044173011599890906,0.04098769692274701,0.03786424907164453,0.03482572209915175,0.03189225153951979,0.02908093665921387,0.026405798189202245,0.02387780617835418,0.021504970953000004,0.019292488908043023,0.01724293400301489,0.01535648538616676,0.013631181498263586,0.012063191278178882,0.010647093656795191,0.009376157328716017,0.008242613773508921,0.007237917599553927,0.006352989446149534,0.005578437850174805,0.004904757615699869,0.004322503279877599,0.0038224372162806507,0.003395652736545726,0.003033673230335821,0.0027285289177364723,0.0024728131796927736,0.0022597206891190923,0.002083069700409985,0.0019373108838424361,0.0018175250311613744,0.0017194118274555363,0.0016392716998800993,0.0015739825322988912,0.0015209727912145628,0.0014781923550155572,0.0014440820859235723,0.0014175429401300389,0.0013979051824160066,0.001384898061174703,0.0013786201108022336,0.0013795100823784576,0.001388318361164682,0.0014060786110290267,0.0014340792917115046,0.0014738346251983484,0.001527054542978613,0.0015956131274673113,0.001681515069491822,0.0017868597006079957,0.0019138022251680403,0.002064511873112304,0.002241126820300546,0.002445705877711878,0.002680177131609581,0.0029462839198383032,0.0032455287491784386,0.003579115987790175,0.003947894396262949,0.004352300780246685,0.004792306245589244,0.005267366701256722,0.0057763793739503706,0.006317647159790585,0.006888852632620333,0.007487043447394594,0.008108630715550954,0.00874940168540965,0.009404547736545123,0.010068708298936045,0.010736030845909562,0.011400246598954503,0.012054761040423023,0.012692757778102772,0.013307313766706862,0.01389152338971224,0.014438628464636314,0.014942150878368188,0.015396024306358488,0.015794721336395468,0.016133372315400133,0.016407872371703297,0.016614973334890426,0.016752357673577058,0.016818692085251476,0.016813658982857374,0.016737964806520032,0.01659332481859128,0.016382424786375166,0.016108860689135876,0.01577705827443926,0.01539217490587705,0.014959986665569908,0.014486764080933212,0.0139791401219709,0.013443974254821741,0.012888216337781687,0.012318774012111167,0.011742386981929242,0.011165511210828065,0.01059421560702763,0.010034093246375565,0.009490188617571492,0.008966941791357513,0.008468149839050892,0.007996945277939297,0.007555790821099597,0.007146489273133901,0.006770207053122184,0.006427509549526046,0.006118406322390883,0.005842404065447678,0.005598565220462896,0.005385570191134231,0.005201781224246279,0.0050453062001655285,0.004914060790530255,0.004805827685277968,0.004718311851366696,0.0046491910499200685,0.004596161096592596,0.004556975592823511,0.004529480076230168,0.00451164073143582,0.004501567964697033,0.004497535275034535,0.004497993950868345,0.004501584185328758,0.004507143237265001,0.004513711270944603,0.004520535488318743,0.004527073126414812,0.004532993831740768,0.004538181846176315,0.0045427383470664,0.004546984180269737,0.004551463110717901,0.0045569455925454005,0.00456443293209212,0.004575161584394788,0.004590607189957419,0.00461248782704379,0.004642765829591925,0.004683647407036898,0.004737579205489724,0.004807240876158659,0.004895532673323533,0.005005557097422742,0.005140593635464449,0.005304065736886509,0.005499499302809451,0.005730472163271852,0.00600055427116084,0.00631323865115456,0.006671863501976004,0.00707952625226895,0.007538990802696095,0.008052589634460377,0.008622122909441513,0.009248757109268617,0.009932926137993073,0.010674238123061433,0.011471391369895433,0.012322103036144325,0.013223054075127505,0.014169853840862319,0.015157027441449705,0.016178028471916052,0.017225279157271615,0.018290239204421535,0.01936350381785127,0.020434930405890662,0.021493792525128036,0.02252895861827075,0.023529092136807272,0.02448286874658562,0.025379205533736716,0.026207496498593063,0.02695784817970429,0.027621309014689826,0.02819008603647162,0.028657742729223248,0.029019372323929482,0.029271741483771277,0.029413400188633403,0.029444754640951625,0.029368101138741696,0.02918762004769583,0.02890933020096351,0.028541005211106085,0.028092054244308384,0.027573370738357195,0.026997153306859107,0.026376703635877203,0.025726206530094182,0.025060497399874208,0.024394822406227597,0.02374459621697726,0.023125161903419466,0.022551556959537623,0.022038288797868108,0.02159912241273829,0.021246882247926542,0.020993269703913943,0.020848697206218295,0.020822139359037897,0.02092100144617125,0.021151005421235786,0.021516093547609638,0.02201834999006388,0.022657940899291035,0.023433073833757898,0.024339977690499448,0.025372904624305824,0.02652415567952263,0.027784131999303987,0.029141413478448168,0.03058286656093415,0.03209378253581809,0.0336580471511054,0.03525834165374618,0.03687637449678553,0.038493141966299174,0.04008921491540745,0.04164504770319356,0.04314130438011187,0.04455919619771768,0.04588082370618582,0.04708951608937576,0.04817016001619696,0.049109510188932684,0.049896473959844236,0.05052236286719782,0.05098110469550416,0.05126941066118881,0.051386893520019156,0.05133613373073691,0.05112269222691406,0.05075506977903328,0.050244614303308975,0.049605378730148364,0.04885393312822796,0.0480091356467673,0.047091867459917704,0.04612473726036098,0.04513176095870314,0.04413802212169766,0.04316931836169818,0.0422517984205731,0.04141159413129049,0.040674450852384685,0.04006535941813163,0.0396081921900192,0.03932534548419921,0.039237390523787115,0.03936273514709299,0.03971729879817298,0.040314203820098295,0.04116348673078471,0.042271833934726506,0.04364234714529195,0.04527434458341427,0.047163204695173995,0.04930025960689627,0.05167274573079957,0.054263818775578815,0.05705263984955304,0.06001453833401222,0.063121255741216,0.06634127287138536,0.0696402202902683,0.07298136953554021,0.07632619962253084,0.07963503047503341,0.08286771198829715,0.08598435468057175,0.08894608544984377,0.09171580996037211,0.09425896176257073,0.09654421749904411,0.09854415754410481,0.1002358522013697,0.10160135514955071,0.1026280881449223,0.10330910398890814,0.10364321834557687,0.1036350050115888,0.10329465354074886,0.10263769253441561,0.10168458624548544,0.10046021622863097,0.09899326343620408,0.09731550925679897,0.09546107640029058,0.0934656321591647,0.09136557736438917,0.08919724428947261,0.08699612585947142,0.08479615684838467,0.08262906538885184,0.08052381018807728,0.07850611547929698,0.07659811209079051,0.07481808923853227,0.07318035790004727,0.07169522305109981,0.0703690587746355,0.06920447739367658,0.0682005814248091,0.06735328535458275,0.06665569304357433,0.0660985159646509,0.06567051746517133,0.06535896876275078,0.0651501033796014,0.06502955811220554,0.06498279033477501,0.06499546335173076,0.06505379355270609,0.06514485519240448,0.06525684063309155,0.06537927577727456,0.06550319212130881,0.06562125833093792,0.06572787544532374,0.06581924073929156,0.0658933859082686,0.06595019559363678,0.06599141235160286,0.06602063400708727,0.0660433089497212,0.06606673434664502,0.06610006149100307,0.0661543115979267,0.06624240431900862,0.06637920008867264,0.06658155615385303,0.06686839478313475,0.06726078071855554,0.06778200343669934,0.06845765825102858,0.06931571874576313,0.0703865915268492,0.07170314286379939,0.07330068554750704,0.07521691328478596,0.07749176928384639,0.08016723545508085,0.08328702895908378,0.08689619377649185,0.09104057663393354,0.09576617906298934,0.10111838062747971,0.10714103242822992,0.1138754248367174,0.12135913892594374,0.1296247971122691,0.13869873489623608,0.14859962204865101,0.15933706783946686,0.17091025063332077,0.18330661703688986,0.19650069944093007,0.21045310293333838,0.22510971288115242,0.24040117276598333,0.25624267795592015,0.272534124948389,0.28916064727446744,0.30599355886994006,0.3228917135710892,0.3397032758673421,0.35626788361910156,0.37241916869507685,0.3879875870119233,0.4028034959266459,0.4167004049729378,0.4295183161539461,0.4411070629302123,0.4513295531261955,0.46006482046212566,0.46721079253013653,0.472686689663287,0.47643497918517647,0.4784228225840138,0.47864296873385725,0.47711406379223925,0.47388036707382586,0.46901088130341945,0.4625979243508993,0.4547551870958702,0.4456153377238338,0.43532724590802857,0.4240529104951346,0.4119641811075664,0.3992393673670922,0.38605982918934334,0.37260663794261545,0.35905739154435395,0.34558325718022764,0.33234630383187747,0.3194971737951022,0.30717312849599726,0.2954964898242439,0.28457348450469466,0.2744934862850348,0.2653286393813368,0.25713383707152565,0.24994702179624548,0.24378976774650882,0.2386681036957369,0.23457353267508713,0.2314842057873,0.22936620975728933,0.22817493137655098,0.22785646648706892,0.2283490461864688,0.22958445817687517,0.2314894463193853,0.23398707621186898,0.23699805878953017,0.24044202739254156,0.2442387664019947,0.2483093913789563,0.25257748171163347,0.2569701671673517,0.2614191695817672,0.2658618003393239,0.27024191345280596,0.27451081306733727,0.278628113209747,0.28256254666242925,0.286292718989324,0.28980780300954295,0.293108168339074,0.2962059399615875,0.2991254790409231,0.3019037782596149,0.30459076277026387,0.3072494862981528,0.3099562099978353,0.3128003493611025,0.3158842718458161,0.3193229251063695,0.32324327292325666,0.3277835134391108,0.3330920524201018,0.3393262033227555,0.34665058634444057,0.3552352007209818,0.36525314866081177,0.3768779957097947,0.3902807612270544,0.40562654403987514,0.4230708021531724,0.4427553213586038,0.4648039252582363,0.4893179980162945,0.5163719102848007,0.5460084573235967,0.5782344353348898,0.6130164964043174,0.6502774331037328,0.6898930497516246,0.7316897776637304,0.7754431857309255,0.8208775248816828,0.8676664252276856,0.915434838131015,0.9637622825518246,1.0121874167339648,1.060213913750864,1.107317574173714,1.152954562964998,1.1965706124771882,1.237610991273555,1.2755310013445988,1.3098067360271652,1.339945809271025,1.3654977550788914,1.3860637950010537,1.4013056818209924,1.4109533490955954,1.4148111283146194],\"yaxis\":\"y\",\"type\":\"scatter\"},{\"legendgroup\":\"False\",\"marker\":{\"color\":\"rgb(255, 127, 14)\"},\"mode\":\"lines\",\"name\":\"False\",\"showlegend\":true,\"x\":[0.0,0.01,0.02,0.03,0.04,0.05,0.06,0.07,0.08,0.09,0.1,0.11,0.12,0.13,0.14,0.15,0.16,0.17,0.18,0.19,0.2,0.21,0.22,0.23,0.24,0.25,0.26,0.27,0.28,0.29,0.3,0.31,0.32,0.33,0.34,0.35,0.36,0.37,0.38,0.39,0.4,0.41,0.42,0.43,0.44,0.45,0.46,0.47,0.48,0.49,0.5,0.51,0.52,0.53,0.54,0.55,0.56,0.57,0.58,0.59,0.6,0.61,0.62,0.63,0.64,0.65,0.66,0.67,0.68,0.69,0.7,0.71,0.72,0.73,0.74,0.75,0.76,0.77,0.78,0.79,0.8,0.81,0.82,0.83,0.84,0.85,0.86,0.87,0.88,0.89,0.9,0.91,0.92,0.93,0.94,0.95,0.96,0.97,0.98,0.99,1.0,1.01,1.02,1.03,1.04,1.05,1.06,1.07,1.08,1.09,1.1,1.11,1.12,1.13,1.14,1.15,1.16,1.17,1.18,1.19,1.2,1.21,1.22,1.23,1.24,1.25,1.26,1.27,1.28,1.29,1.3,1.31,1.32,1.33,1.34,1.35,1.36,1.37,1.38,1.39,1.4,1.41,1.42,1.43,1.44,1.45,1.46,1.47,1.48,1.49,1.5,1.51,1.52,1.53,1.54,1.55,1.56,1.57,1.58,1.59,1.6,1.61,1.62,1.63,1.64,1.65,1.66,1.67,1.68,1.69,1.7,1.71,1.72,1.73,1.74,1.75,1.76,1.77,1.78,1.79,1.8,1.81,1.82,1.83,1.84,1.85,1.86,1.87,1.88,1.89,1.9,1.91,1.92,1.93,1.94,1.95,1.96,1.97,1.98,1.99,2.0,2.01,2.02,2.03,2.04,2.05,2.06,2.07,2.08,2.09,2.1,2.11,2.12,2.13,2.14,2.15,2.16,2.17,2.18,2.19,2.2,2.21,2.22,2.23,2.24,2.25,2.26,2.27,2.28,2.29,2.3,2.31,2.32,2.33,2.34,2.35,2.36,2.37,2.38,2.39,2.4,2.41,2.42,2.43,2.44,2.45,2.46,2.47,2.48,2.49,2.5,2.51,2.52,2.53,2.54,2.55,2.56,2.57,2.58,2.59,2.6,2.61,2.62,2.63,2.64,2.65,2.66,2.67,2.68,2.69,2.7,2.71,2.72,2.73,2.74,2.75,2.76,2.77,2.78,2.79,2.8,2.81,2.82,2.83,2.84,2.85,2.86,2.87,2.88,2.89,2.9,2.91,2.92,2.93,2.94,2.95,2.96,2.97,2.98,2.99,3.0,3.01,3.02,3.03,3.04,3.05,3.06,3.07,3.08,3.09,3.1,3.11,3.12,3.13,3.14,3.15,3.16,3.17,3.18,3.19,3.2,3.21,3.22,3.23,3.24,3.25,3.26,3.27,3.28,3.29,3.3,3.31,3.32,3.33,3.34,3.35,3.36,3.37,3.38,3.39,3.4,3.41,3.42,3.43,3.44,3.45,3.46,3.47,3.48,3.49,3.5,3.51,3.52,3.53,3.54,3.55,3.56,3.57,3.58,3.59,3.6,3.61,3.62,3.63,3.64,3.65,3.66,3.67,3.68,3.69,3.7,3.71,3.72,3.73,3.74,3.75,3.76,3.77,3.78,3.79,3.8,3.81,3.82,3.83,3.84,3.85,3.86,3.87,3.88,3.89,3.9,3.91,3.92,3.93,3.94,3.95,3.96,3.97,3.98,3.99,4.0,4.01,4.02,4.03,4.04,4.05,4.06,4.07,4.08,4.09,4.1,4.11,4.12,4.13,4.14,4.15,4.16,4.17,4.18,4.19,4.2,4.21,4.22,4.23,4.24,4.25,4.26,4.27,4.28,4.29,4.3,4.31,4.32,4.33,4.34,4.35,4.36,4.37,4.38,4.39,4.4,4.41,4.42,4.43,4.44,4.45,4.46,4.47,4.48,4.49,4.5,4.51,4.52,4.53,4.54,4.55,4.56,4.57,4.58,4.59,4.6,4.61,4.62,4.63,4.64,4.65,4.66,4.67,4.68,4.69,4.7,4.71,4.72,4.73,4.74,4.75,4.76,4.77,4.78,4.79,4.8,4.81,4.82,4.83,4.84,4.85,4.86,4.87,4.88,4.89,4.9,4.91,4.92,4.93,4.94,4.95,4.96,4.97,4.98,4.99],\"xaxis\":\"x\",\"y\":[0.10515328479722376,0.10479299955201733,0.10371384969399344,0.10193824002994861,0.09950260738336097,0.0964561873741624,0.09285937071171083,0.08878172578931855,0.08429977810310853,0.07949464544252607,0.07444963058259912,0.06924787040810097,0.06397013244845978,0.058692837450380494,0.05348637086475573,0.04841372813887162,0.04352951971389711,0.038879342833380445,0.034499509763189516,0.030417106716633793,0.026650345353486534,0.023209159605025446,0.020095994937484016,0.017306734930491435,0.014831710932052527,0.012656744112398456,0.010764174917336543,0.009133842102319401,0.007743981587763553,0.0065720237269356035,0.0055952757031732196,0.004791483251116341,0.0041392724121306285,0.003618477383174531,0.0032103646020863225,0.002897766024997356,0.0026651361646904,0.00249854800186535,0.0023856425235682602,0.00231554557503215,0.002278764129316083,0.002267072172757053,0.0022733943459808913,0.0022916934190984717,0.002316865737338005,0.002344647042231928,0.0023715296171918326,0.0023946905613541113,0.002411930173832107,0.0024216189226427018,0.002422651251680795,0.0024144045046055433,0.002396701465948246,0.002369775380825497,0.0023342367565854323,0.0022910417149398735,0.002241462098078326,0.002187057890179377,0.0021296527587420953,0.002071313620897359,0.002014335082534259,0.0019612293789422162,0.0019147220729530717,0.0018777532600240349,0.001853483419458466,0.0018453023763990047,0.0018568391470800449,0.001891969782390493,0.0019548197575212055,0.0020497570345390567,0.00218137170403823,0.0023544381401715843,0.0025738559200583246,0.0028445663911250557,0.0031714427295154324,0.003559152611060003,0.004011994182778869,0.0045337078227036,0.005127268129482679,0.005794662587840544,0.00653666528856287,0.007352615804929577,0.008240214697388596,0.009195347994065291,0.010211953250015985,0.011281939322823745,0.012395170753740003,0.013539525597155308,0.014701032736701663,0.015864091262192008,0.017011770513663923,0.018126185134373567,0.019188935161709976,0.020181597096419757,0.021086248305495492,0.021886004296415625,0.02256554657781861,0.02311161816515356,0.023513464398316287,0.023763198626337675,0.023856075408562445,0.023790658022990848,0.02356887202494795,0.023195942067413662,0.022680214843930676,0.02203287649798812,0.021267577823219377,0.020399984757893418,0.019447274814877177,0.018427602019754512,0.0173595535756521,0.01626162084254502,0.015151705404571858,0.014046678168067431,0.01296200581016796,0.011911454745927327,0.010906878380926183,0.009958089042547627,0.009072811889670676,0.008256714502055977,0.007513502911670489,0.0068450726665024025,0.0062517021626948424,0.00573227493717869,0.005284517825495145,0.00490524276340218,0.004590581422309047,0.004336203676069571,0.004137512951994605,0.003989813677114688,0.0038884481582260543,0.0038289022153686174,0.003806880629582554,0.003818354898224139,0.0038595868714211235,0.003927132552981013,0.00401783069306471,0.004128780803719825,0.00425731493504576,0.0044009670162596425,0.004557442859089569,0.004724593113038484,0.0049003906265957,0.0050829128754077265,0.0052703294300276695,0.0054608939026920865,0.005652939470125132,0.005844876935643778,0.006035194368048709,0.006222457617342284,0.0064053114213456445,0.006582481331357442,0.006752777237375163,0.006915099796906316,0.007068451499213535,0.007211954368007721,0.007344876370528369,0.007466668425532485,0.007577013471814955,0.007675888377602737,0.007763638565080493,0.007841064137764038,0.007909515091650563,0.007970991936200938,0.008028246827866833,0.008084879209387634,0.008145419033106716,0.008215390001111617,0.00830134494504526,0.008410865548502832,0.008552519125705496,0.008735766136963398,0.008970813552541904,0.009268411061228995,0.009639589426654091,0.010095342968721732,0.010646261109821505,0.011302117069744712,0.012071424986554327,0.01296097982472589,0.013975397226919383,0.015116672777288244,0.016383781773155942,0.017772341357296613,0.01927435657777553,0.020878070489525558,0.02256793572171126,0.024324721009674026,0.026125761114836187,0.0279453525043474,0.029755290395868546,0.031525535632079944,0.033224992736015105,0.03482237385207747,0.036287117545738906,0.0375903270384838,0.03870568975409236,0.039610339315843124,0.04028562250968274,0.040717737226994226,0.040898212887062045,0.040824212037014015,0.040498640333276784,0.03993006142006879,0.039132422770809965,0.0381246077558062,0.03692983747376486,0.03557495272554891,0.03408961150496324,0.03250544024866693,0.030855177686736648,0.029171848479302414,0.027488000073906834,0.02583503066377667,0.024242629168728016,0.022738340272928058,0.021347259254744552,0.020091853158255076,0.01899189728201526,0.018064509442613765,0.01732425937359979,0.016783327215744142,0.016451683506980765,0.0163372634460417,0.01644611043001214,0.016782467798774285,0.01734880311185948,0.01814575580945704,0.019172006379107653,0.020424072725769075,0.021896046861372725,0.023579291820850477,0.02546212442262163,0.027529513713098128,0.029762827324459368,0.032139658282774465,0.03463376289335298,0.03721513619762855,0.03985024527934697,0.04250243268108383,0.04513249279684785,0.047699413873583306,0.05016126781504506,0.05247622001787819,0.05460362266922526,0.056505147939395796,0.05814591285785175,0.05949554577064799,0.060529145366937945,0.06122808735383564,0.06158064076134492,0.06158236517676307,0.06123627136670021,0.06055274002749616,0.05954920601154462,0.05824962747408492,0.05668377017873896,0.05488634598570907,0.0528960507672573,0.050754550276627036,0.048505462673127234,0.04619338352731663,0.04386299345114771,0.04155828045674785,0.03932189932659276,0.03719467936200095,0.03521528060299512,0.03341998772028795,0.03184262096829818,0.030514535472277064,0.029464674206047026,0.028719636666017373,0.028303724677698962,0.028238929041800545,0.02854482573948476,0.029238357922196662,0.030333489521122324,0.0318407275110078,0.03376652203284274,0.03611256601698706,0.0388750278957164,0.04204376167377701,0.04560154727713829,0.04952342002389121,0.05377615066469271,0.05831793628440374,0.06309835719938671,0.06805864581843617,0.07313230050930006,0.07824606134455737,0.08332124596580559,0.08827542370438297,0.09302438570659896,0.09748434941114949,0.10157431861270251,0.10521850673869358,0.10834872191566301,0.11090660869453506,0.11284564340033566,0.11413278804951994,0.11474972131816918,0.11469358344123334,0.11397719413181544,0.11262872731326441,0.11069085217105136,0.108219375203483,0.10528144108432867,0.10195336990759525,0.0983182236827354,0.09446320502885132,0.09047699548855179,0.08644713972861431,0.0824575754639441,0.07858639788207887,0.07490393255483911,0.07147117336132523,0.0683386229385687,0.0655455537438658,0.06311968899806862,0.061077285469906935,0.05942358497814952,0.058153589140939425,0.05725310259981644,0.056699983811396425,0.05646553948378904,0.05651599866009136,0.05681400503214605,0.05732007095083429,0.057993943382287104,0.05879584031667343,0.05968752542984395,0.06063319868468082,0.061600190609848456,0.06255945777917994,0.06348588613577903,0.06435841688702512,0.06516001641001797,0.06587751668370152,0.06650135601631205,0.06702525116909812,0.06744583140877485,0.06776226268106526,0.06797588623919898,0.06808989103145921,0.06810903339212346,0.06803941157508027,0.06788829692594733,0.0676640184852353,0.06737589396251499,0.06703419762996618,0.06665015492402393,0.06623595443607751,0.06580477037971119,0.06537079224304183,0.064949262753163,0.06455652995845175,0.06421012359625823,0.06392886935170465,0.06373305656940767,0.06364467497093666,0.063687733606185,0.06388867043712831,0.06427685361456971,0.06488516587412096,0.06575065195914877,0.06691519619746977,0.06842618412567737,0.07033708932297655,0.07270791546530987,0.07560541516507072,0.07910300254723977,0.08328027677140633,0.0882220797191798,0.09401702345746767,0.10075544216168027,0.10852674882121187,0.11741620867220665,0.127501177811188,0.13884689521767737,0.15150195735252117,0.16549364407721265,0.1808233000442559,0.19746200399908645,0.21534677674762076,0.23437758432044642,0.2544153840920466,0.27528143705977326,0.29675806887629674,0.31859100640358434,0.34049334753301586,0.3621511429361361,0.3832304834613538,0.4033859010193815,0.4222698094510473,0.4395426405782285,0.45488327461005373,0.4679993277783648,0.4786368468490798,0.48658897186661765,0.49170316538483777,0.493886666976708,0.4931099128221819,0.4894077569401037,0.4828784373246755,0.4736803403024248,0.46202672300824094,0.4481786504468943,0.4324364843749053,0.41513032155780977,0.3966098157218505,0.3772338292362249,0.35736034752192075,0.33733705327608837,0.3174929021095357,0.2981309706155849,0.2795227672726405,0.2619041114289091,0.2454726012957775,0.23038661322672507,0.21676570577000745,0.2046922462061299,0.1942140365836305,0.18534769165207132,0.17808251242277662,0.17238460537799777,0.16820101675654187,0.1654636815536327,0.16409302507027881,0.16400109820906136,0.16509417325463213,0.167274771900029,0.1704431392657819,0.17449821451654352,0.1793381786746693,0.1848606821783282,0.19096286786092537,0.1975413091104283,0.20449197828363688,0.21171034769431726,0.21909170589072038,0.22653174701379586,0.23392746267634548,0.2411783360728537,0.24818780915420824,0.25486496772547057,0.2611263682663298,0.26689791572598,0.27211669462956894,0.27673265727274216,0.28071008242246936,0.28402873527225675,0.2866846830408294,0.2886907488008361,0.29007661661979856,0.2908886313722488,0.291189364048053,0.29105703553282886,0.29058490643945584,0.2898807458538863,0.28906648662120016,0.2882781585435086,0.28766616375793663,0.28739592165367317,0.28764886558010055,0.2886237227095612,0.2905379546471221,0.2936291830869697,0.29815637575591064,0.3044005268809942,0.31266453737728017,0.323271986526141,0.33656449238354524,0.3528973851361898,0.3726334678590997,0.39613471319291055,0.4237518415695509,0.4558118444446183,0.4926036503216032,0.5343622765345942,0.5812519579737552,0.6333488864993573,0.69062432140625,0.7529289316406932,0.8199792941223286,0.8913474902847085,0.9664547074910207,1.0445696586309399,1.1248124809663131,1.20616456703295,1.287484523342602,1.3675301583202792,1.4449860845820186,1.5184962006743088,1.5867000138654725,1.6482714992230354,1.701958980539648,1.7466243824995613,1.7812801536052043,1.805122202954193,1.8175573323807097],\"yaxis\":\"y\",\"type\":\"scatter\"}],                        {\"barmode\":\"overlay\",\"hovermode\":\"closest\",\"legend\":{\"traceorder\":\"reversed\"},\"xaxis\":{\"anchor\":\"y2\",\"domain\":[0.0,1.0],\"zeroline\":false},\"yaxis\":{\"anchor\":\"free\",\"domain\":[0.0,1],\"position\":0.0},\"template\":{\"data\":{\"barpolar\":[{\"marker\":{\"line\":{\"color\":\"white\",\"width\":0.5},\"pattern\":{\"fillmode\":\"overlay\",\"size\":10,\"solidity\":0.2}},\"type\":\"barpolar\"}],\"bar\":[{\"error_x\":{\"color\":\"rgb(36,36,36)\"},\"error_y\":{\"color\":\"rgb(36,36,36)\"},\"marker\":{\"line\":{\"color\":\"white\",\"width\":0.5},\"pattern\":{\"fillmode\":\"overlay\",\"size\":10,\"solidity\":0.2}},\"type\":\"bar\"}],\"carpet\":[{\"aaxis\":{\"endlinecolor\":\"rgb(36,36,36)\",\"gridcolor\":\"white\",\"linecolor\":\"white\",\"minorgridcolor\":\"white\",\"startlinecolor\":\"rgb(36,36,36)\"},\"baxis\":{\"endlinecolor\":\"rgb(36,36,36)\",\"gridcolor\":\"white\",\"linecolor\":\"white\",\"minorgridcolor\":\"white\",\"startlinecolor\":\"rgb(36,36,36)\"},\"type\":\"carpet\"}],\"choropleth\":[{\"colorbar\":{\"outlinewidth\":1,\"tickcolor\":\"rgb(36,36,36)\",\"ticks\":\"outside\"},\"type\":\"choropleth\"}],\"contourcarpet\":[{\"colorbar\":{\"outlinewidth\":1,\"tickcolor\":\"rgb(36,36,36)\",\"ticks\":\"outside\"},\"type\":\"contourcarpet\"}],\"contour\":[{\"colorbar\":{\"outlinewidth\":1,\"tickcolor\":\"rgb(36,36,36)\",\"ticks\":\"outside\"},\"colorscale\":[[0.0,\"#440154\"],[0.1111111111111111,\"#482878\"],[0.2222222222222222,\"#3e4989\"],[0.3333333333333333,\"#31688e\"],[0.4444444444444444,\"#26828e\"],[0.5555555555555556,\"#1f9e89\"],[0.6666666666666666,\"#35b779\"],[0.7777777777777778,\"#6ece58\"],[0.8888888888888888,\"#b5de2b\"],[1.0,\"#fde725\"]],\"type\":\"contour\"}],\"heatmapgl\":[{\"colorbar\":{\"outlinewidth\":1,\"tickcolor\":\"rgb(36,36,36)\",\"ticks\":\"outside\"},\"colorscale\":[[0.0,\"#440154\"],[0.1111111111111111,\"#482878\"],[0.2222222222222222,\"#3e4989\"],[0.3333333333333333,\"#31688e\"],[0.4444444444444444,\"#26828e\"],[0.5555555555555556,\"#1f9e89\"],[0.6666666666666666,\"#35b779\"],[0.7777777777777778,\"#6ece58\"],[0.8888888888888888,\"#b5de2b\"],[1.0,\"#fde725\"]],\"type\":\"heatmapgl\"}],\"heatmap\":[{\"colorbar\":{\"outlinewidth\":1,\"tickcolor\":\"rgb(36,36,36)\",\"ticks\":\"outside\"},\"colorscale\":[[0.0,\"#440154\"],[0.1111111111111111,\"#482878\"],[0.2222222222222222,\"#3e4989\"],[0.3333333333333333,\"#31688e\"],[0.4444444444444444,\"#26828e\"],[0.5555555555555556,\"#1f9e89\"],[0.6666666666666666,\"#35b779\"],[0.7777777777777778,\"#6ece58\"],[0.8888888888888888,\"#b5de2b\"],[1.0,\"#fde725\"]],\"type\":\"heatmap\"}],\"histogram2dcontour\":[{\"colorbar\":{\"outlinewidth\":1,\"tickcolor\":\"rgb(36,36,36)\",\"ticks\":\"outside\"},\"colorscale\":[[0.0,\"#440154\"],[0.1111111111111111,\"#482878\"],[0.2222222222222222,\"#3e4989\"],[0.3333333333333333,\"#31688e\"],[0.4444444444444444,\"#26828e\"],[0.5555555555555556,\"#1f9e89\"],[0.6666666666666666,\"#35b779\"],[0.7777777777777778,\"#6ece58\"],[0.8888888888888888,\"#b5de2b\"],[1.0,\"#fde725\"]],\"type\":\"histogram2dcontour\"}],\"histogram2d\":[{\"colorbar\":{\"outlinewidth\":1,\"tickcolor\":\"rgb(36,36,36)\",\"ticks\":\"outside\"},\"colorscale\":[[0.0,\"#440154\"],[0.1111111111111111,\"#482878\"],[0.2222222222222222,\"#3e4989\"],[0.3333333333333333,\"#31688e\"],[0.4444444444444444,\"#26828e\"],[0.5555555555555556,\"#1f9e89\"],[0.6666666666666666,\"#35b779\"],[0.7777777777777778,\"#6ece58\"],[0.8888888888888888,\"#b5de2b\"],[1.0,\"#fde725\"]],\"type\":\"histogram2d\"}],\"histogram\":[{\"marker\":{\"line\":{\"color\":\"white\",\"width\":0.6}},\"type\":\"histogram\"}],\"mesh3d\":[{\"colorbar\":{\"outlinewidth\":1,\"tickcolor\":\"rgb(36,36,36)\",\"ticks\":\"outside\"},\"type\":\"mesh3d\"}],\"parcoords\":[{\"line\":{\"colorbar\":{\"outlinewidth\":1,\"tickcolor\":\"rgb(36,36,36)\",\"ticks\":\"outside\"}},\"type\":\"parcoords\"}],\"pie\":[{\"automargin\":true,\"type\":\"pie\"}],\"scatter3d\":[{\"line\":{\"colorbar\":{\"outlinewidth\":1,\"tickcolor\":\"rgb(36,36,36)\",\"ticks\":\"outside\"}},\"marker\":{\"colorbar\":{\"outlinewidth\":1,\"tickcolor\":\"rgb(36,36,36)\",\"ticks\":\"outside\"}},\"type\":\"scatter3d\"}],\"scattercarpet\":[{\"marker\":{\"colorbar\":{\"outlinewidth\":1,\"tickcolor\":\"rgb(36,36,36)\",\"ticks\":\"outside\"}},\"type\":\"scattercarpet\"}],\"scattergeo\":[{\"marker\":{\"colorbar\":{\"outlinewidth\":1,\"tickcolor\":\"rgb(36,36,36)\",\"ticks\":\"outside\"}},\"type\":\"scattergeo\"}],\"scattergl\":[{\"marker\":{\"colorbar\":{\"outlinewidth\":1,\"tickcolor\":\"rgb(36,36,36)\",\"ticks\":\"outside\"}},\"type\":\"scattergl\"}],\"scattermapbox\":[{\"marker\":{\"colorbar\":{\"outlinewidth\":1,\"tickcolor\":\"rgb(36,36,36)\",\"ticks\":\"outside\"}},\"type\":\"scattermapbox\"}],\"scatterpolargl\":[{\"marker\":{\"colorbar\":{\"outlinewidth\":1,\"tickcolor\":\"rgb(36,36,36)\",\"ticks\":\"outside\"}},\"type\":\"scatterpolargl\"}],\"scatterpolar\":[{\"marker\":{\"colorbar\":{\"outlinewidth\":1,\"tickcolor\":\"rgb(36,36,36)\",\"ticks\":\"outside\"}},\"type\":\"scatterpolar\"}],\"scatter\":[{\"fillpattern\":{\"fillmode\":\"overlay\",\"size\":10,\"solidity\":0.2},\"type\":\"scatter\"}],\"scatterternary\":[{\"marker\":{\"colorbar\":{\"outlinewidth\":1,\"tickcolor\":\"rgb(36,36,36)\",\"ticks\":\"outside\"}},\"type\":\"scatterternary\"}],\"surface\":[{\"colorbar\":{\"outlinewidth\":1,\"tickcolor\":\"rgb(36,36,36)\",\"ticks\":\"outside\"},\"colorscale\":[[0.0,\"#440154\"],[0.1111111111111111,\"#482878\"],[0.2222222222222222,\"#3e4989\"],[0.3333333333333333,\"#31688e\"],[0.4444444444444444,\"#26828e\"],[0.5555555555555556,\"#1f9e89\"],[0.6666666666666666,\"#35b779\"],[0.7777777777777778,\"#6ece58\"],[0.8888888888888888,\"#b5de2b\"],[1.0,\"#fde725\"]],\"type\":\"surface\"}],\"table\":[{\"cells\":{\"fill\":{\"color\":\"rgb(237,237,237)\"},\"line\":{\"color\":\"white\"}},\"header\":{\"fill\":{\"color\":\"rgb(217,217,217)\"},\"line\":{\"color\":\"white\"}},\"type\":\"table\"}]},\"layout\":{\"annotationdefaults\":{\"arrowhead\":0,\"arrowwidth\":1},\"autotypenumbers\":\"strict\",\"coloraxis\":{\"colorbar\":{\"outlinewidth\":1,\"tickcolor\":\"rgb(36,36,36)\",\"ticks\":\"outside\"}},\"colorscale\":{\"diverging\":[[0.0,\"rgb(103,0,31)\"],[0.1,\"rgb(178,24,43)\"],[0.2,\"rgb(214,96,77)\"],[0.3,\"rgb(244,165,130)\"],[0.4,\"rgb(253,219,199)\"],[0.5,\"rgb(247,247,247)\"],[0.6,\"rgb(209,229,240)\"],[0.7,\"rgb(146,197,222)\"],[0.8,\"rgb(67,147,195)\"],[0.9,\"rgb(33,102,172)\"],[1.0,\"rgb(5,48,97)\"]],\"sequential\":[[0.0,\"#440154\"],[0.1111111111111111,\"#482878\"],[0.2222222222222222,\"#3e4989\"],[0.3333333333333333,\"#31688e\"],[0.4444444444444444,\"#26828e\"],[0.5555555555555556,\"#1f9e89\"],[0.6666666666666666,\"#35b779\"],[0.7777777777777778,\"#6ece58\"],[0.8888888888888888,\"#b5de2b\"],[1.0,\"#fde725\"]],\"sequentialminus\":[[0.0,\"#440154\"],[0.1111111111111111,\"#482878\"],[0.2222222222222222,\"#3e4989\"],[0.3333333333333333,\"#31688e\"],[0.4444444444444444,\"#26828e\"],[0.5555555555555556,\"#1f9e89\"],[0.6666666666666666,\"#35b779\"],[0.7777777777777778,\"#6ece58\"],[0.8888888888888888,\"#b5de2b\"],[1.0,\"#fde725\"]]},\"colorway\":[\"#1F77B4\",\"#FF7F0E\",\"#2CA02C\",\"#D62728\",\"#9467BD\",\"#8C564B\",\"#E377C2\",\"#7F7F7F\",\"#BCBD22\",\"#17BECF\"],\"font\":{\"color\":\"rgb(36,36,36)\"},\"geo\":{\"bgcolor\":\"white\",\"lakecolor\":\"white\",\"landcolor\":\"white\",\"showlakes\":true,\"showland\":true,\"subunitcolor\":\"white\"},\"hoverlabel\":{\"align\":\"left\"},\"hovermode\":\"closest\",\"mapbox\":{\"style\":\"light\"},\"paper_bgcolor\":\"white\",\"plot_bgcolor\":\"white\",\"polar\":{\"angularaxis\":{\"gridcolor\":\"rgb(232,232,232)\",\"linecolor\":\"rgb(36,36,36)\",\"showgrid\":false,\"showline\":true,\"ticks\":\"outside\"},\"bgcolor\":\"white\",\"radialaxis\":{\"gridcolor\":\"rgb(232,232,232)\",\"linecolor\":\"rgb(36,36,36)\",\"showgrid\":false,\"showline\":true,\"ticks\":\"outside\"}},\"scene\":{\"xaxis\":{\"backgroundcolor\":\"white\",\"gridcolor\":\"rgb(232,232,232)\",\"gridwidth\":2,\"linecolor\":\"rgb(36,36,36)\",\"showbackground\":true,\"showgrid\":false,\"showline\":true,\"ticks\":\"outside\",\"zeroline\":false,\"zerolinecolor\":\"rgb(36,36,36)\"},\"yaxis\":{\"backgroundcolor\":\"white\",\"gridcolor\":\"rgb(232,232,232)\",\"gridwidth\":2,\"linecolor\":\"rgb(36,36,36)\",\"showbackground\":true,\"showgrid\":false,\"showline\":true,\"ticks\":\"outside\",\"zeroline\":false,\"zerolinecolor\":\"rgb(36,36,36)\"},\"zaxis\":{\"backgroundcolor\":\"white\",\"gridcolor\":\"rgb(232,232,232)\",\"gridwidth\":2,\"linecolor\":\"rgb(36,36,36)\",\"showbackground\":true,\"showgrid\":false,\"showline\":true,\"ticks\":\"outside\",\"zeroline\":false,\"zerolinecolor\":\"rgb(36,36,36)\"}},\"shapedefaults\":{\"fillcolor\":\"black\",\"line\":{\"width\":0},\"opacity\":0.3},\"ternary\":{\"aaxis\":{\"gridcolor\":\"rgb(232,232,232)\",\"linecolor\":\"rgb(36,36,36)\",\"showgrid\":false,\"showline\":true,\"ticks\":\"outside\"},\"baxis\":{\"gridcolor\":\"rgb(232,232,232)\",\"linecolor\":\"rgb(36,36,36)\",\"showgrid\":false,\"showline\":true,\"ticks\":\"outside\"},\"bgcolor\":\"white\",\"caxis\":{\"gridcolor\":\"rgb(232,232,232)\",\"linecolor\":\"rgb(36,36,36)\",\"showgrid\":false,\"showline\":true,\"ticks\":\"outside\"}},\"title\":{\"x\":0.5,\"xanchor\":\"center\"},\"xaxis\":{\"automargin\":true,\"gridcolor\":\"rgb(232,232,232)\",\"linecolor\":\"rgb(36,36,36)\",\"showgrid\":true,\"showline\":true,\"ticks\":\"outside\",\"title\":{\"standoff\":15},\"zeroline\":false,\"zerolinecolor\":\"rgb(36,36,36)\"},\"yaxis\":{\"automargin\":true,\"gridcolor\":\"rgb(232,232,232)\",\"linecolor\":\"rgb(36,36,36)\",\"showgrid\":true,\"showline\":true,\"ticks\":\"outside\",\"title\":{\"standoff\":15},\"zeroline\":false,\"zerolinecolor\":\"rgb(36,36,36)\"},\"autosize\":true,\"height\":400,\"margin\":{\"b\":30,\"l\":30,\"r\":30,\"t\":30},\"width\":600}},\"title\":{\"text\":\"Distribution of Mean Rating of Meat Dish vs. Non-Meat Dish\"}},                        {\"responsive\": true}                    ).then(function(){\n",
       "                            \n",
       "var gd = document.getElementById('35498a81-7412-4e0c-a1ca-bc35e90c05dc');\n",
       "var x = new MutationObserver(function (mutations, observer) {{\n",
       "        var display = window.getComputedStyle(gd).display;\n",
       "        if (!display || display === 'none') {{\n",
       "            console.log([gd, 'removed!']);\n",
       "            Plotly.purge(gd);\n",
       "            observer.disconnect();\n",
       "        }}\n",
       "}});\n",
       "\n",
       "// Listen for the removal of the full notebook cells\n",
       "var notebookContainer = gd.closest('#notebook-container');\n",
       "if (notebookContainer) {{\n",
       "    x.observe(notebookContainer, {childList: true});\n",
       "}}\n",
       "\n",
       "// Listen for the clearing of the current output cell\n",
       "var outputEl = gd.closest('.output');\n",
       "if (outputEl) {{\n",
       "    x.observe(outputEl, {childList: true});\n",
       "}}\n",
       "\n",
       "                        })                };                });            </script>        </div>"
      ]
     },
     "metadata": {},
     "output_type": "display_data"
    }
   ],
   "source": [
    "create_kde_plotly(is_meat_grouped,\"is_meat\",True,False,'rating',title='Distribution of Mean Rating of Meat Dish vs. Non-Meat Dish')"
   ]
  },
  {
   "cell_type": "markdown",
   "metadata": {},
   "source": [
    "## Step 3: Assessment of Missingness"
   ]
  },
  {
   "cell_type": "code",
   "execution_count": null,
   "metadata": {
    "ExecuteTime": {
     "end_time": "2019-10-31T23:36:28.662099Z",
     "start_time": "2019-10-31T23:36:28.660016Z"
    }
   },
   "outputs": [],
   "source": [
    "# TODO"
   ]
  },
  {
   "cell_type": "markdown",
   "metadata": {},
   "source": [
    "## Step 4: Hypothesis Testing"
   ]
  },
  {
   "cell_type": "code",
   "execution_count": null,
   "metadata": {
    "ExecuteTime": {
     "end_time": "2019-10-31T23:36:28.666489Z",
     "start_time": "2019-10-31T23:36:28.664381Z"
    }
   },
   "outputs": [],
   "source": [
    "# TODO"
   ]
  },
  {
   "cell_type": "markdown",
   "metadata": {},
   "source": [
    "## Step 5: Framing a Prediction Problem"
   ]
  },
  {
   "cell_type": "code",
   "execution_count": null,
   "metadata": {
    "ExecuteTime": {
     "end_time": "2019-10-31T23:36:28.657068Z",
     "start_time": "2019-10-31T23:36:28.654650Z"
    }
   },
   "outputs": [],
   "source": [
    "# TODO"
   ]
  },
  {
   "cell_type": "markdown",
   "metadata": {},
   "source": [
    "## Step 6: Baseline Model"
   ]
  },
  {
   "cell_type": "code",
   "execution_count": null,
   "metadata": {
    "ExecuteTime": {
     "end_time": "2019-10-31T23:36:28.662099Z",
     "start_time": "2019-10-31T23:36:28.660016Z"
    }
   },
   "outputs": [],
   "source": [
    "# TODO"
   ]
  },
  {
   "cell_type": "markdown",
   "metadata": {},
   "source": [
    "## Step 7: Final Model"
   ]
  },
  {
   "cell_type": "code",
   "execution_count": null,
   "metadata": {
    "ExecuteTime": {
     "end_time": "2019-10-31T23:36:28.662099Z",
     "start_time": "2019-10-31T23:36:28.660016Z"
    }
   },
   "outputs": [],
   "source": [
    "# TODO"
   ]
  },
  {
   "cell_type": "markdown",
   "metadata": {},
   "source": [
    "## Step 8: Fairness Analysis"
   ]
  },
  {
   "cell_type": "code",
   "execution_count": null,
   "metadata": {
    "ExecuteTime": {
     "end_time": "2019-10-31T23:36:28.666489Z",
     "start_time": "2019-10-31T23:36:28.664381Z"
    }
   },
   "outputs": [],
   "source": [
    "# TODO"
   ]
  }
 ],
 "metadata": {
  "kernelspec": {
   "display_name": "dsc80",
   "language": "python",
   "name": "dsc80"
  },
  "language_info": {
   "codemirror_mode": {
    "name": "ipython",
    "version": 3
   },
   "file_extension": ".py",
   "mimetype": "text/x-python",
   "name": "python",
   "nbconvert_exporter": "python",
   "pygments_lexer": "ipython3",
   "version": "3.12.7"
  }
 },
 "nbformat": 4,
 "nbformat_minor": 2
}
